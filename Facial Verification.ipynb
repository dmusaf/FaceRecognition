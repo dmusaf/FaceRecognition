{
 "cells": [
  {
   "cell_type": "markdown",
   "id": "7e83d285-b998-49cc-8d0c-91282a595b16",
   "metadata": {},
   "source": [
    "## Dependencies"
   ]
  },
  {
   "cell_type": "code",
   "execution_count": 3,
   "id": "f551b4aa-152a-4f0e-b1ec-ab2517db70b3",
   "metadata": {},
   "outputs": [],
   "source": [
    "#!pip install tensorflow==2.10 opencv-python matplotlib"
   ]
  },
  {
   "cell_type": "code",
   "execution_count": 1,
   "id": "b4ebd24e-6092-46b9-be23-e6155f7bd30d",
   "metadata": {},
   "outputs": [],
   "source": [
    "import cv2\n",
    "import os\n",
    "import random\n",
    "import numpy as np\n",
    "import matplotlib.pyplot as plt"
   ]
  },
  {
   "cell_type": "code",
   "execution_count": 2,
   "id": "6d155205-78d9-4b37-9e81-cc751b716a5d",
   "metadata": {},
   "outputs": [
    {
     "name": "stderr",
     "output_type": "stream",
     "text": [
      "C:\\Users\\david\\AppData\\Local\\Programs\\Python\\Python39\\lib\\site-packages\\requests\\__init__.py:102: RequestsDependencyWarning: urllib3 (1.26.8) or chardet (5.1.0)/charset_normalizer (2.0.12) doesn't match a supported version!\n",
      "  warnings.warn(\"urllib3 ({}) or chardet ({})/charset_normalizer ({}) doesn't match a supported \"\n"
     ]
    }
   ],
   "source": [
    "# Functional API\n",
    "from tensorflow.keras.models import Model\n",
    "from tensorflow.keras.layers import Layer, Conv2D, Dense, MaxPooling2D, Input, Flatten\n",
    "import tensorflow as tf"
   ]
  },
  {
   "cell_type": "code",
   "execution_count": 12,
   "id": "bfb4df04-d0fc-4566-831a-5f8fdff004e8",
   "metadata": {},
   "outputs": [],
   "source": [
    "# We don't see any GPUs\n",
    "gpus = tf.config.experimental.list_physical_devices('GPU')\n",
    "assert len(gpus) == 0"
   ]
  },
  {
   "cell_type": "markdown",
   "id": "f7298111-e452-49f9-b5c2-2306bd953fbb",
   "metadata": {},
   "source": [
    "## Folder Structures"
   ]
  },
  {
   "cell_type": "code",
   "execution_count": 3,
   "id": "15134a13-1c40-458f-b378-129b2d09e3a9",
   "metadata": {},
   "outputs": [],
   "source": [
    "# Setup paths\n",
    "POS_PATH = os.path.join('data', 'positive')\n",
    "NEG_PATH = os.path.join('data', 'negative')\n",
    "ANC_PATH = os.path.join('data', 'anchor')"
   ]
  },
  {
   "cell_type": "code",
   "execution_count": 14,
   "id": "e4885993-d140-4fe0-9a42-500016b89f85",
   "metadata": {},
   "outputs": [],
   "source": [
    "os.makedirs(POS_PATH)\n",
    "os.makedirs(NEG_PATH)\n",
    "os.makedirs(ANC_PATH)"
   ]
  },
  {
   "cell_type": "markdown",
   "id": "7fe5eadc-accb-440b-adb1-e6ce5a642cc3",
   "metadata": {},
   "source": [
    "## Data Collection\n",
    "\n",
    "### Negative samples"
   ]
  },
  {
   "cell_type": "code",
   "execution_count": 1,
   "id": "77a9f5b4-57b2-4cb0-8adc-f8f7c2d10ece",
   "metadata": {},
   "outputs": [],
   "source": [
    "# Extract lfw face dataset\n",
    "!tar -xf lfw.tgz"
   ]
  },
  {
   "cell_type": "code",
   "execution_count": 11,
   "id": "f45aa996-d8da-4aad-92bc-84dd524241b5",
   "metadata": {},
   "outputs": [],
   "source": [
    "# Moving LFW Images to ./data/negative\n",
    "for directory in os.listdir('lfw'):\n",
    "    directory_path = os.path.join('lfw', directory)\n",
    "    for file in os.listdir(directory_path):\n",
    "        EX_PATH = os.path.join('lfw', directory, file)\n",
    "        NEW_PATH = os.path.join(NEG_PATH, file)\n",
    "        os.replace(EX_PATH, NEW_PATH)"
   ]
  },
  {
   "cell_type": "markdown",
   "id": "3d1196d6-6b9b-4bd3-96f3-ae728bd3ee1f",
   "metadata": {},
   "source": [
    "### Positive samples"
   ]
  },
  {
   "cell_type": "code",
   "execution_count": 46,
   "id": "5315e720-999f-4c1b-bb54-f7c40d5cd9d9",
   "metadata": {},
   "outputs": [],
   "source": [
    "import uuid"
   ]
  },
  {
   "cell_type": "code",
   "execution_count": 50,
   "id": "25216bac-74ae-4d43-ba92-8e77939ca99c",
   "metadata": {},
   "outputs": [],
   "source": [
    "y, x = 140, 250\n",
    "size = 250 # DON'T MODIFY"
   ]
  },
  {
   "cell_type": "code",
   "execution_count": 49,
   "id": "5ebfa4cd-0aba-4681-aec8-2a24432c49e3",
   "metadata": {},
   "outputs": [],
   "source": [
    "cap = cv2.VideoCapture(1)\n",
    "while cap.isOpened():\n",
    "    ret, frame = cap.read()\n",
    "    frame = frame[y:y+size,x:x+size,:]\n",
    "    \n",
    "    # Collect anchors\n",
    "    if cv2.waitKey(1) & 0XFF == ord('a'):\n",
    "        imgname = os.path.join(ANC_PATH, '{}.jpg'.format(uuid.uuid1()))\n",
    "        cv2.imwrite(imgname, frame)\n",
    "    \n",
    "    # Collect positives\n",
    "    if cv2.waitKey(1) & 0XFF == ord('p'):\n",
    "        imgname = os.path.join(POS_PATH, '{}.jpg'.format(uuid.uuid1()))\n",
    "        cv2.imwrite(imgname, frame)\n",
    "    \n",
    "    cv2.imshow('Image Collection', frame)\n",
    "\n",
    "    if cv2.waitKey(1) & 0XFF == ord('q'):\n",
    "        break\n",
    "\n",
    "cap.release()\n",
    "cv2.destroyAllWindows()"
   ]
  },
  {
   "cell_type": "markdown",
   "id": "0374f81f-db43-4412-8fd9-270364a99199",
   "metadata": {},
   "source": [
    "## Data Loading"
   ]
  },
  {
   "cell_type": "code",
   "execution_count": 6,
   "id": "94042c5f-66c3-4a3e-aceb-71e69723dc59",
   "metadata": {},
   "outputs": [],
   "source": [
    "SAMPLE_SIZE = 300"
   ]
  },
  {
   "cell_type": "code",
   "execution_count": 13,
   "id": "b802c1fc-5b94-4cb4-b8e7-dc6ff99236fe",
   "metadata": {},
   "outputs": [],
   "source": [
    "anchor = tf.data.Dataset.list_files(ANC_PATH+'\\*.jpg').take(SAMPLE_SIZE)\n",
    "positive = tf.data.Dataset.list_files(POS_PATH+'\\*.jpg').take(SAMPLE_SIZE)\n",
    "negative = tf.data.Dataset.list_files(NEG_PATH+'\\*.jpg').take(SAMPLE_SIZE)"
   ]
  },
  {
   "cell_type": "markdown",
   "id": "e8db77a3-6a32-446c-9355-93e9ef00f8a8",
   "metadata": {},
   "source": [
    "## Data preprocessing"
   ]
  },
  {
   "cell_type": "code",
   "execution_count": 14,
   "id": "11db89f5-f0df-4465-82ca-17e2fd5a8394",
   "metadata": {},
   "outputs": [],
   "source": [
    "def preprocess(file_path):\n",
    "    byte_img = tf.io.read_file(file_path)\n",
    "    img = tf.io.decode_jpeg(byte_img)\n",
    "    img = tf.image.resize(img, (100, 100))\n",
    "    img = img / 255.0\n",
    "    return img"
   ]
  },
  {
   "cell_type": "code",
   "execution_count": 15,
   "id": "c70a075e-477f-4e37-8a4e-a78db79d19d1",
   "metadata": {},
   "outputs": [],
   "source": [
    "positives = tf.data.Dataset.zip((anchor, positive, tf.data.Dataset.from_tensor_slices(tf.ones(len(anchor)))))\n",
    "negative = tf.data.Dataset.zip((anchor, negative, tf.data.Dataset.from_tensor_slices(tf.zeros(len(anchor)))))\n",
    "data = positives.concatenate(negative)"
   ]
  },
  {
   "cell_type": "code",
   "execution_count": 621,
   "id": "b79a349e-d108-4677-bcf5-62bbfd227622",
   "metadata": {},
   "outputs": [],
   "source": [
    "def preprocess_twin(input_img, validation_img, label):\n",
    "    return (preprocess(input_img), preprocess(validation_img), label)"
   ]
  },
  {
   "cell_type": "code",
   "execution_count": 623,
   "id": "13258bf6-5a4e-4443-b45f-fcc64a7accf3",
   "metadata": {},
   "outputs": [],
   "source": [
    "# DataLoader pipeline\n",
    "data = data.map(preprocess_twin)\n",
    "data = data.cache()\n",
    "data = data.shuffle(buffer_size=1024)"
   ]
  },
  {
   "cell_type": "code",
   "execution_count": 625,
   "id": "080e19d3-1dd2-4783-80b8-c59c1bdcba6e",
   "metadata": {},
   "outputs": [],
   "source": [
    "train_data = data.take(round(len(data)*.7))\n",
    "train_data = train_data.batch(16)\n",
    "train_data = train_data.prefetch(8)"
   ]
  },
  {
   "cell_type": "code",
   "execution_count": 627,
   "id": "c51168f0-ce9c-48d6-80b6-64e768650d13",
   "metadata": {},
   "outputs": [],
   "source": [
    "test_data = data.skip(round(len(data)*0.7))\n",
    "test_data = test_data.take(round(len(data)*.3))"
   ]
  },
  {
   "cell_type": "code",
   "execution_count": null,
   "id": "c3e3aa2e-7ada-4b5c-97e5-bb1d951fb3bd",
   "metadata": {},
   "outputs": [],
   "source": [
    " "
   ]
  }
 ],
 "metadata": {
  "kernelspec": {
   "display_name": "Python 3 (ipykernel)",
   "language": "python",
   "name": "python3"
  },
  "language_info": {
   "codemirror_mode": {
    "name": "ipython",
    "version": 3
   },
   "file_extension": ".py",
   "mimetype": "text/x-python",
   "name": "python",
   "nbconvert_exporter": "python",
   "pygments_lexer": "ipython3",
   "version": "3.9.9"
  }
 },
 "nbformat": 4,
 "nbformat_minor": 5
}
