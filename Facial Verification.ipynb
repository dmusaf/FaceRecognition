{
 "cells": [
  {
   "cell_type": "markdown",
   "id": "7e83d285-b998-49cc-8d0c-91282a595b16",
   "metadata": {},
   "source": [
    "## Dependencies"
   ]
  },
  {
   "cell_type": "code",
   "execution_count": 3,
   "id": "f551b4aa-152a-4f0e-b1ec-ab2517db70b3",
   "metadata": {},
   "outputs": [],
   "source": [
    "#!pip install tensorflow==2.10 opencv-python matplotlib"
   ]
  },
  {
   "cell_type": "code",
   "execution_count": 5,
   "id": "b4ebd24e-6092-46b9-be23-e6155f7bd30d",
   "metadata": {},
   "outputs": [],
   "source": [
    "import cv2\n",
    "import os\n",
    "import random\n",
    "import numpy as np\n",
    "import matplotlib.pyplot as plt"
   ]
  },
  {
   "cell_type": "code",
   "execution_count": 6,
   "id": "6d155205-78d9-4b37-9e81-cc751b716a5d",
   "metadata": {},
   "outputs": [
    {
     "name": "stderr",
     "output_type": "stream",
     "text": [
      "C:\\Users\\david\\AppData\\Local\\Programs\\Python\\Python39\\lib\\site-packages\\requests\\__init__.py:102: RequestsDependencyWarning: urllib3 (1.26.8) or chardet (5.1.0)/charset_normalizer (2.0.12) doesn't match a supported version!\n",
      "  warnings.warn(\"urllib3 ({}) or chardet ({})/charset_normalizer ({}) doesn't match a supported \"\n"
     ]
    }
   ],
   "source": [
    "# Functional API\n",
    "from tensorflow.keras.models import Model\n",
    "from tensorflow.keras.layers import Layer, Conv2D, Dense, MaxPooling2D, Input, Flatten\n",
    "import tensorflow as tf"
   ]
  },
  {
   "cell_type": "code",
   "execution_count": 12,
   "id": "bfb4df04-d0fc-4566-831a-5f8fdff004e8",
   "metadata": {},
   "outputs": [],
   "source": [
    "# We don't see any GPUs\n",
    "gpus = tf.config.experimental.list_physical_devices('GPU')\n",
    "assert len(gpus) == 0"
   ]
  },
  {
   "cell_type": "markdown",
   "id": "f7298111-e452-49f9-b5c2-2306bd953fbb",
   "metadata": {},
   "source": [
    "## Folder Structures"
   ]
  },
  {
   "cell_type": "code",
   "execution_count": 10,
   "id": "15134a13-1c40-458f-b378-129b2d09e3a9",
   "metadata": {},
   "outputs": [],
   "source": [
    "# Setup paths\n",
    "POS_PATH = os.path.join('data', 'positive')\n",
    "NEG_PATH = os.path.join('data', 'negative')\n",
    "ANC_PATH = os.path.join('data', 'anchor')"
   ]
  },
  {
   "cell_type": "code",
   "execution_count": 14,
   "id": "e4885993-d140-4fe0-9a42-500016b89f85",
   "metadata": {},
   "outputs": [],
   "source": [
    "os.makedirs(POS_PATH)\n",
    "os.makedirs(NEG_PATH)\n",
    "os.makedirs(ANC_PATH)"
   ]
  },
  {
   "cell_type": "markdown",
   "id": "7fe5eadc-accb-440b-adb1-e6ce5a642cc3",
   "metadata": {},
   "source": [
    "## Data Collection\n",
    "\n",
    "### Negative samples"
   ]
  },
  {
   "cell_type": "code",
   "execution_count": 1,
   "id": "77a9f5b4-57b2-4cb0-8adc-f8f7c2d10ece",
   "metadata": {},
   "outputs": [],
   "source": [
    "# Extract lfw face dataset\n",
    "!tar -xf lfw.tgz"
   ]
  },
  {
   "cell_type": "code",
   "execution_count": 11,
   "id": "f45aa996-d8da-4aad-92bc-84dd524241b5",
   "metadata": {},
   "outputs": [],
   "source": [
    "# Moving LFW Images to ./data/negative\n",
    "for directory in os.listdir('lfw'):\n",
    "    directory_path = os.path.join('lfw', directory)\n",
    "    for file in os.listdir(directory_path):\n",
    "        EX_PATH = os.path.join('lfw', directory, file)\n",
    "        NEW_PATH = os.path.join(NEG_PATH, file)\n",
    "        os.replace(EX_PATH, NEW_PATH)"
   ]
  },
  {
   "cell_type": "markdown",
   "id": "3d1196d6-6b9b-4bd3-96f3-ae728bd3ee1f",
   "metadata": {},
   "source": [
    "### Positive samples"
   ]
  },
  {
   "cell_type": "code",
   "execution_count": 46,
   "id": "5315e720-999f-4c1b-bb54-f7c40d5cd9d9",
   "metadata": {},
   "outputs": [],
   "source": [
    "import uuid"
   ]
  },
  {
   "cell_type": "code",
   "execution_count": 50,
   "id": "25216bac-74ae-4d43-ba92-8e77939ca99c",
   "metadata": {},
   "outputs": [],
   "source": [
    "y, x = 140, 250\n",
    "size = 250 # DON'T MODIFY"
   ]
  },
  {
   "cell_type": "code",
   "execution_count": 49,
   "id": "5ebfa4cd-0aba-4681-aec8-2a24432c49e3",
   "metadata": {},
   "outputs": [],
   "source": [
    "cap = cv2.VideoCapture(1)\n",
    "while cap.isOpened():\n",
    "    ret, frame = cap.read()\n",
    "    frame = frame[y:y+size,x:x+size,:]\n",
    "    \n",
    "    # Collect anchors\n",
    "    if cv2.waitKey(1) & 0XFF == ord('a'):\n",
    "        imgname = os.path.join(ANC_PATH, '{}.jpg'.format(uuid.uuid1()))\n",
    "        cv2.imwrite(imgname, frame)\n",
    "    \n",
    "    # Collect positives\n",
    "    if cv2.waitKey(1) & 0XFF == ord('p'):\n",
    "        imgname = os.path.join(POS_PATH, '{}.jpg'.format(uuid.uuid1()))\n",
    "        cv2.imwrite(imgname, frame)\n",
    "    \n",
    "    cv2.imshow('Image Collection', frame)\n",
    "\n",
    "    if cv2.waitKey(1) & 0XFF == ord('q'):\n",
    "        break\n",
    "\n",
    "cap.release()\n",
    "cv2.destroyAllWindows()"
   ]
  },
  {
   "cell_type": "code",
   "execution_count": null,
   "id": "4a9336f8-d70a-4b66-997d-f775ed1bb70a",
   "metadata": {},
   "outputs": [],
   "source": []
  },
  {
   "cell_type": "code",
   "execution_count": null,
   "id": "2bc4ce03-64a8-4266-bb6e-0b86cd7f8d70",
   "metadata": {},
   "outputs": [],
   "source": []
  }
 ],
 "metadata": {
  "kernelspec": {
   "display_name": "Python 3 (ipykernel)",
   "language": "python",
   "name": "python3"
  },
  "language_info": {
   "codemirror_mode": {
    "name": "ipython",
    "version": 3
   },
   "file_extension": ".py",
   "mimetype": "text/x-python",
   "name": "python",
   "nbconvert_exporter": "python",
   "pygments_lexer": "ipython3",
   "version": "3.9.9"
  }
 },
 "nbformat": 4,
 "nbformat_minor": 5
}
